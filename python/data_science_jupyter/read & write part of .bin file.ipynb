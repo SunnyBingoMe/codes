{
 "cells": [
  {
   "cell_type": "code",
   "execution_count": null,
   "metadata": {},
   "outputs": [],
   "source": [
    "# read part of data from file_1 or file_2, according to flags (data3), and save to file_4 (data4.bin)"
   ]
  },
  {
   "cell_type": "code",
   "execution_count": 19,
   "metadata": {},
   "outputs": [],
   "source": [
    "import numpy as np\n",
    "import os"
   ]
  },
  {
   "cell_type": "code",
   "execution_count": 20,
   "metadata": {},
   "outputs": [
    {
     "data": {
      "text/plain": [
       "array([ 1.1,  2.1,  3.1,  4.1,  5.1,  6.1,  7.1,  8.1])"
      ]
     },
     "execution_count": 20,
     "metadata": {},
     "output_type": "execute_result"
    }
   ],
   "source": [
    "data1 = np.array(list(range(1,9))) + 0.1 # default, float64\n",
    "data1"
   ]
  },
  {
   "cell_type": "code",
   "execution_count": 21,
   "metadata": {},
   "outputs": [
    {
     "data": {
      "text/plain": [
       "array([ 21.2,  22.2,  23.2,  24.2,  25.2,  26.2,  27.2,  28.2])"
      ]
     },
     "execution_count": 21,
     "metadata": {},
     "output_type": "execute_result"
    }
   ],
   "source": [
    "data2 = np.array(list(range(21,29))) + 0.2\n",
    "data2"
   ]
  },
  {
   "cell_type": "code",
   "execution_count": 22,
   "metadata": {},
   "outputs": [
    {
     "data": {
      "text/plain": [
       "array([0, 1, 1, 0])"
      ]
     },
     "execution_count": 22,
     "metadata": {},
     "output_type": "execute_result"
    }
   ],
   "source": [
    "data3 = np.array([0, 1, 1, 0])\n",
    "data3"
   ]
  },
  {
   "cell_type": "code",
   "execution_count": 23,
   "metadata": {},
   "outputs": [],
   "source": [
    "data1.astype('float32').tofile('data1.bin')\n",
    "data2.astype('float32').tofile('data2.bin')\n",
    "data3.astype('int32').tofile('data3.bin')  # flag"
   ]
  },
  {
   "cell_type": "code",
   "execution_count": 29,
   "metadata": {},
   "outputs": [],
   "source": [
    "item_size_bytes = 4 # 4: 32bits, 8: 64bit\n",
    "item_nr = 2 # read 2 numbers every time\n",
    "one_global_index = 0\n",
    "p_file_1 = open('data1.bin', \"rb\")\n",
    "p_file_2 = open('data2.bin', \"rb\")\n",
    "p_file_4 = open('data4.bin', \"wb\") # results / target\n",
    "for one_flag in data3:\n",
    "    nr_to_skip = one_global_index * item_nr\n",
    "    seek_nr = nr_to_skip * item_size_bytes\n",
    "    if(data3[one_global_index]): # if flat is 1, read from file_1, otherwise file_2\n",
    "        p_file_1.seek(seek_nr, os.SEEK_SET)\n",
    "        t = np.fromfile(p_file_1, dtype=np.float32, count=item_nr)\n",
    "    else:\n",
    "        p_file_2.seek(seek_nr, os.SEEK_SET)\n",
    "        t = np.fromfile(p_file_2, dtype=np.float32, count=item_nr)\n",
    "    t.tofile(p_file_4) # as file_4 is opened only once before the loop, the data t is appended into file_4.\n",
    "    one_global_index += 1\n",
    "p_file_1.close()\n",
    "p_file_2.close()\n",
    "p_file_4.close()"
   ]
  },
  {
   "cell_type": "code",
   "execution_count": 30,
   "metadata": {},
   "outputs": [
    {
     "data": {
      "text/plain": [
       "array([ 21.20000076,  22.20000076,   3.0999999 ,   4.0999999 ,\n",
       "         5.0999999 ,   6.0999999 ,  27.20000076,  28.20000076], dtype=float32)"
      ]
     },
     "execution_count": 30,
     "metadata": {},
     "output_type": "execute_result"
    }
   ],
   "source": [
    "# verify\n",
    "t = np.fromfile('data4.bin', '<f4')\n",
    "t"
   ]
  },
  {
   "cell_type": "code",
   "execution_count": null,
   "metadata": {},
   "outputs": [],
   "source": [
    "# note: better rto use: with open(\"file.bin\", \"wb\") as p_file: ..."
   ]
  }
 ],
 "metadata": {
  "kernelspec": {
   "display_name": "Python 3",
   "language": "python",
   "name": "python3"
  },
  "language_info": {
   "codemirror_mode": {
    "name": "ipython",
    "version": 3
   },
   "file_extension": ".py",
   "mimetype": "text/x-python",
   "name": "python",
   "nbconvert_exporter": "python",
   "pygments_lexer": "ipython3",
   "version": "3.5.2"
  }
 },
 "nbformat": 4,
 "nbformat_minor": 2
}
